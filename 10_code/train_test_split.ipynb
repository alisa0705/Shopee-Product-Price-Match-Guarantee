{
 "cells": [
  {
   "attachments": {},
   "cell_type": "markdown",
   "metadata": {},
   "source": [
    "# Train Test Split"
   ]
  },
  {
   "cell_type": "code",
   "execution_count": 4,
   "metadata": {},
   "outputs": [],
   "source": [
    "# import pre-processed data\n",
    "import pandas as pd\n",
    "import numpy as np\n",
    "import os\n"
   ]
  },
  {
   "cell_type": "code",
   "execution_count": 5,
   "metadata": {},
   "outputs": [
    {
     "ename": "FileNotFoundError",
     "evalue": "[Errno 2] No such file or directory: '/workspaces/Shopee-Price-Match-Guarantee/00_source_data/shopee-product-matching/'",
     "output_type": "error",
     "traceback": [
      "\u001b[0;31m---------------------------------------------------------------------------\u001b[0m",
      "\u001b[0;31mFileNotFoundError\u001b[0m                         Traceback (most recent call last)",
      "Cell \u001b[0;32mIn[5], line 4\u001b[0m\n\u001b[1;32m      2\u001b[0m PATH_TO_IMG \u001b[39m=\u001b[39m \u001b[39m'\u001b[39m\u001b[39m/workspaces/Shopee-Price-Match-Guarantee/00_source_data/shopee-product-matching/train_images/\u001b[39m\u001b[39m'\u001b[39m\n\u001b[1;32m      3\u001b[0m PATH_TO_TEST \u001b[39m=\u001b[39m \u001b[39m'\u001b[39m\u001b[39m/workspaces/Shopee-Price-Match-Guarantee/00_source_data/shopee-product-matching/test_images/\u001b[39m\u001b[39m'\u001b[39m\n\u001b[0;32m----> 4\u001b[0m os\u001b[39m.\u001b[39;49mlistdir(PATH)\n",
      "\u001b[0;31mFileNotFoundError\u001b[0m: [Errno 2] No such file or directory: '/workspaces/Shopee-Price-Match-Guarantee/00_source_data/shopee-product-matching/'"
     ]
    }
   ],
   "source": [
    "PATH = '/workspaces/Shopee-Price-Match-Guarantee/00_source_data/shopee-product-matching/'\n",
    "PATH_TO_IMG = '/workspaces/Shopee-Price-Match-Guarantee/00_source_data/shopee-product-matching/train_images/'\n",
    "PATH_TO_TEST = '/workspaces/Shopee-Price-Match-Guarantee/00_source_data/shopee-product-matching/test_images/'\n",
    "os.listdir(PATH)"
   ]
  },
  {
   "cell_type": "code",
   "execution_count": null,
   "metadata": {},
   "outputs": [],
   "source": []
  }
 ],
 "metadata": {
  "kernelspec": {
   "display_name": "base",
   "language": "python",
   "name": "python3"
  },
  "language_info": {
   "codemirror_mode": {
    "name": "ipython",
    "version": 3
   },
   "file_extension": ".py",
   "mimetype": "text/x-python",
   "name": "python",
   "nbconvert_exporter": "python",
   "pygments_lexer": "ipython3",
   "version": "3.10.9"
  },
  "orig_nbformat": 4
 },
 "nbformat": 4,
 "nbformat_minor": 2
}
