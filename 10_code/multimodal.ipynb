{
 "cells": [
  {
   "cell_type": "code",
   "execution_count": 2,
   "metadata": {},
   "outputs": [
    {
     "name": "stderr",
     "output_type": "stream",
     "text": [
      "/home/vscode/.venv/lib/python3.11/site-packages/tqdm/auto.py:21: TqdmWarning: IProgress not found. Please update jupyter and ipywidgets. See https://ipywidgets.readthedocs.io/en/stable/user_install.html\n",
      "  from .autonotebook import tqdm as notebook_tqdm\n",
      "2023-04-16 04:21:25.294443: I tensorflow/core/platform/cpu_feature_guard.cc:182] This TensorFlow binary is optimized to use available CPU instructions in performance-critical operations.\n",
      "To enable the following instructions: AVX2 FMA, in other operations, rebuild TensorFlow with the appropriate compiler flags.\n",
      "2023-04-16 04:21:26.172819: W tensorflow/compiler/tf2tensorrt/utils/py_utils.cc:38] TF-TRT Warning: Could not find TensorRT\n"
     ]
    }
   ],
   "source": [
    "import pandas as pd\n",
    "import numpy as np\n",
    "import re\n",
    "\n",
    "from torch import nn\n",
    "import nltk\n",
    "import pandas as pd\n",
    "import matplotlib.pyplot as plt\n",
    "from sentence_transformers import *\n",
    "import torchvision.models as models\n",
    "\n",
    "\n",
    "import torch.nn as nn\n",
    "from transformers import BertModel, BertTokenizer\n",
    "import torch.nn as nn\n",
    "import torch.nn.functional as F\n",
    "from sentence_transformers import SentenceTransformer, util\n",
    "from sklearn.model_selection import train_test_split\n",
    "import seaborn as sns\n",
    "from sklearn.neighbors import NearestNeighbors\n",
    "from torch.nn import Transformer\n",
    "from sklearn.neighbors import KNeighborsClassifier\n",
    "from sklearn.metrics import accuracy_score\n",
    "\n",
    "\n",
    "# import pre-processed data\n",
    "import pandas as pd\n",
    "import numpy as np\n",
    "import os\n",
    "import cv2\n",
    "import matplotlib.pyplot as plt\n",
    "import PIL\n",
    "import tensorflow as tf\n",
    "import keras_toolkit as kt\n",
    "import keras.backend as K\n",
    "from sklearn.model_selection import train_test_split\n",
    "from textwrap import wrap\n"
   ]
  },
  {
   "cell_type": "code",
   "execution_count": 3,
   "metadata": {},
   "outputs": [
    {
     "data": {
      "text/html": [
       "<div>\n",
       "<style scoped>\n",
       "    .dataframe tbody tr th:only-of-type {\n",
       "        vertical-align: middle;\n",
       "    }\n",
       "\n",
       "    .dataframe tbody tr th {\n",
       "        vertical-align: top;\n",
       "    }\n",
       "\n",
       "    .dataframe thead th {\n",
       "        text-align: right;\n",
       "    }\n",
       "</style>\n",
       "<table border=\"1\" class=\"dataframe\">\n",
       "  <thead>\n",
       "    <tr style=\"text-align: right;\">\n",
       "      <th></th>\n",
       "      <th>posting_id</th>\n",
       "      <th>image</th>\n",
       "      <th>image_phash</th>\n",
       "      <th>title</th>\n",
       "      <th>label_group</th>\n",
       "      <th>proc_title</th>\n",
       "    </tr>\n",
       "  </thead>\n",
       "  <tbody>\n",
       "    <tr>\n",
       "      <th>0</th>\n",
       "      <td>train_2249428809</td>\n",
       "      <td>40d304f91be807fed3b796a158a034f7.jpg</td>\n",
       "      <td>bc69d33e86b491c1</td>\n",
       "      <td>AMTECH Klem C Set 3 Pcs - Catok Clamp 1 2 3 Inch</td>\n",
       "      <td>3685949317</td>\n",
       "      <td>amtech klem c set pcs catok clamp inch</td>\n",
       "    </tr>\n",
       "    <tr>\n",
       "      <th>1</th>\n",
       "      <td>train_1453612941</td>\n",
       "      <td>e05aa71652e2546dbc2a6a2d18cc4aa7.jpg</td>\n",
       "      <td>bcfcc1a80ee930da</td>\n",
       "      <td>Cetakan Kue Pukis 10 Lubang Pancong Teflon Ran...</td>\n",
       "      <td>2236232282</td>\n",
       "      <td>cetakan kue pukis lubang pancong teflon rangin...</td>\n",
       "    </tr>\n",
       "    <tr>\n",
       "      <th>2</th>\n",
       "      <td>train_414717665</td>\n",
       "      <td>0c0f97f726132be83c7b84e0ca9e604e.jpg</td>\n",
       "      <td>bc4aa5a5de34d2e0</td>\n",
       "      <td>(COD)TAS TOTE BAG T76 TAS CANVAS FASHION WANIT...</td>\n",
       "      <td>3145779110</td>\n",
       "      <td>codtas tote bag t tas canvas fashion wanita im...</td>\n",
       "    </tr>\n",
       "    <tr>\n",
       "      <th>3</th>\n",
       "      <td>train_404098311</td>\n",
       "      <td>fedf1394058d6e439698356c0be6f4d6.jpg</td>\n",
       "      <td>cbceb1a14e8bf046</td>\n",
       "      <td>(1kg=7pcs) MEIRA CARDIGAN CARDI OUTHER TANPA J...</td>\n",
       "      <td>4171236554</td>\n",
       "      <td>kgpcs meira cardigan cardi outher tanpa jilbab</td>\n",
       "    </tr>\n",
       "    <tr>\n",
       "      <th>4</th>\n",
       "      <td>train_653040440</td>\n",
       "      <td>cfb08184ebbef7a5409e1bd1a0f6d0d9.jpg</td>\n",
       "      <td>c44eec61e516d2b9</td>\n",
       "      <td>Wardah Lightening Day Cream 30gr or  night cre...</td>\n",
       "      <td>1774190279</td>\n",
       "      <td>wardah lightening day cream gr night cream gr</td>\n",
       "    </tr>\n",
       "  </tbody>\n",
       "</table>\n",
       "</div>"
      ],
      "text/plain": [
       "         posting_id                                 image       image_phash  \\\n",
       "0  train_2249428809  40d304f91be807fed3b796a158a034f7.jpg  bc69d33e86b491c1   \n",
       "1  train_1453612941  e05aa71652e2546dbc2a6a2d18cc4aa7.jpg  bcfcc1a80ee930da   \n",
       "2   train_414717665  0c0f97f726132be83c7b84e0ca9e604e.jpg  bc4aa5a5de34d2e0   \n",
       "3   train_404098311  fedf1394058d6e439698356c0be6f4d6.jpg  cbceb1a14e8bf046   \n",
       "4   train_653040440  cfb08184ebbef7a5409e1bd1a0f6d0d9.jpg  c44eec61e516d2b9   \n",
       "\n",
       "                                               title  label_group  \\\n",
       "0   AMTECH Klem C Set 3 Pcs - Catok Clamp 1 2 3 Inch   3685949317   \n",
       "1  Cetakan Kue Pukis 10 Lubang Pancong Teflon Ran...   2236232282   \n",
       "2  (COD)TAS TOTE BAG T76 TAS CANVAS FASHION WANIT...   3145779110   \n",
       "3  (1kg=7pcs) MEIRA CARDIGAN CARDI OUTHER TANPA J...   4171236554   \n",
       "4  Wardah Lightening Day Cream 30gr or  night cre...   1774190279   \n",
       "\n",
       "                                          proc_title  \n",
       "0             amtech klem c set pcs catok clamp inch  \n",
       "1  cetakan kue pukis lubang pancong teflon rangin...  \n",
       "2  codtas tote bag t tas canvas fashion wanita im...  \n",
       "3     kgpcs meira cardigan cardi outher tanpa jilbab  \n",
       "4      wardah lightening day cream gr night cream gr  "
      ]
     },
     "execution_count": 3,
     "metadata": {},
     "output_type": "execute_result"
    }
   ],
   "source": [
    "from text_process import process_text\n",
    "training_dataset = pd.read_csv('/workspaces/Shopee-Price-Match-Guarantee/15_after_processed/train.csv')\n",
    "val_dataset = pd.read_csv('/workspaces/Shopee-Price-Match-Guarantee/15_after_processed/val.csv')\n",
    "testing_dataset = pd.read_csv('/workspaces/Shopee-Price-Match-Guarantee/15_after_processed/test.csv')\n",
    "training_dataset, val_dataset, testing_dataset = process_text(training_dataset, val_dataset, testing_dataset)\n",
    "training_dataset.head()"
   ]
  },
  {
   "cell_type": "code",
   "execution_count": 4,
   "metadata": {},
   "outputs": [
    {
     "name": "stderr",
     "output_type": "stream",
     "text": [
      "Batches: 100%|██████████| 685/685 [00:06<00:00, 101.82it/s]\n",
      "Batches: 100%|██████████| 172/172 [00:01<00:00, 111.51it/s]\n"
     ]
    }
   ],
   "source": [
    "dist_model = SentenceTransformer('stsb-distilbert-base')\n",
    "dist_model.max_seq_length = 128\n",
    "\n",
    "train_titles = training_dataset.proc_title.tolist()\n",
    "train_embed = dist_model.encode(train_titles, show_progress_bar=True, convert_to_tensor=True)\n",
    "\n",
    "val_titles = val_dataset.proc_title.tolist()\n",
    "val_embed = dist_model.encode(val_titles, show_progress_bar=True, convert_to_tensor=True)"
   ]
  },
  {
   "cell_type": "code",
   "execution_count": 5,
   "metadata": {},
   "outputs": [
    {
     "name": "stderr",
     "output_type": "stream",
     "text": [
      "2023-04-16 04:21:39.097334: W tensorflow/core/common_runtime/gpu/gpu_device.cc:1956] Cannot dlopen some GPU libraries. Please make sure the missing libraries mentioned above are installed properly if you would like to use GPU. Follow the guide at https://www.tensorflow.org/install/gpu for how to download and setup the required libraries for your platform.\n",
      "Skipping registering GPU devices...\n"
     ]
    },
    {
     "name": "stdout",
     "output_type": "stream",
     "text": [
      "Downloading data from https://storage.googleapis.com/tensorflow/keras-applications/resnet/resnet50_weights_tf_dim_ordering_tf_kernels_notop.h5\n",
      "94765736/94765736 [==============================] - 0s 0us/step\n"
     ]
    }
   ],
   "source": [
    "IMG_SIZE = 224\n",
    "size = (IMG_SIZE,IMG_SIZE)\n",
    "img_model = tf.keras.applications.ResNet50(input_shape = (IMG_SIZE, IMG_SIZE, 3), include_top = False, weights = 'imagenet' )"
   ]
  },
  {
   "cell_type": "code",
   "execution_count": 6,
   "metadata": {},
   "outputs": [],
   "source": [
    "def get_textEmbeddings(model,text):\n",
    "    text_embedding = model.encode(text, convert_to_tensor=True)\n",
    "    return text_embedding\n",
    "\n",
    "def get_imageEmbeddings(model,imagePath):\n",
    "    image = tf.keras.preprocessing.image.load_img(imagePath,target_size= size)\n",
    "    input_arr = tf.keras.preprocessing.image.img_to_array(image)\n",
    "    input_arr = np.array([input_arr])\n",
    "    img_embeddings = model(input_arr)\n",
    "    meanImgEmb1 = np.mean(img_embeddings,axis =0)\n",
    "    meanImgEmb2 = np.mean(meanImgEmb1,axis=0)\n",
    "    meanImgEmb = np.mean(meanImgEmb2,axis=0)\n",
    "    return meanImgEmb\n",
    "\n",
    "X_train, X_val, y_train, y_val = train_embed, val_embed, training_dataset.label_group, val_dataset.label_group"
   ]
  },
  {
   "cell_type": "code",
   "execution_count": 7,
   "metadata": {},
   "outputs": [],
   "source": [
    "text_embeddings={}\n",
    "image_embeddings={}\n",
    "for index,row in  training_dataset.iterrows():\n",
    "    txt_emb = get_textEmbeddings(dist_model,str(row['proc_title']))\n",
    "    imagePath = '/workspaces/Shopee-Price-Match-Guarantee/00_source_data/shopee-product-matching/train_images/'+row[1]\n",
    "    img_emb = get_imageEmbeddings(img_model,imagePath)\n",
    "    text_embeddings[row[0]] = txt_emb\n",
    "    image_embeddings[row[0]] = img_emb"
   ]
  },
  {
   "cell_type": "code",
   "execution_count": null,
   "metadata": {},
   "outputs": [],
   "source": [
    "val_text_embeddings={}\n",
    "val_image_embeddings={}\n",
    "for index,row in  val_dataset.iterrows():\n",
    "    txt_emb = get_textEmbeddings(dist_model,str(row['proc_title']))\n",
    "    imagePath = '/workspaces/Shopee-Price-Match-Guarantee/00_source_data/shopee-product-matching/train_images/'+row[1]\n",
    "    img_emb = get_imageEmbeddings(img_model,imagePath)\n",
    "    val_text_embeddings[row[0]] = txt_emb\n",
    "    val_image_embeddings[row[0]] = img_emb\n",
    "\n",
    "test_text_embeddings={}\n",
    "test_image_embeddings={}\n",
    "for index,row in  testing_dataset.iterrows():\n",
    "    txt_emb = get_textEmbeddings(dist_model,str(row['proc_title']))\n",
    "    imagePath = '/workspaces/Shopee-Price-Match-Guarantee/00_source_data/shopee-product-matching/train_images/'+row[1]\n",
    "    img_emb = get_imageEmbeddings(img_model,imagePath)\n",
    "    test_text_embeddings[row[0]] = txt_emb\n",
    "    test_image_embeddings[row[0]] = img_emb"
   ]
  },
  {
   "cell_type": "code",
   "execution_count": null,
   "metadata": {},
   "outputs": [],
   "source": [
    "keyList=[]\n",
    "cembList=[]\n",
    "imageList=[]\n",
    "titleList=[]\n",
    "for index, row in training_dataset.iterrows():\n",
    "    txt_emb = text_embeddings[row[0]].cpu().numpy()\n",
    "    img_emb = image_embeddings[row[0]]\n",
    "    cmb_emb = np.concatenate((txt_emb,img_emb),axis=0)\n",
    "\n",
    "    norm = np.linalg.norm(cmb_emb)\n",
    "    cmb_emb_normal = cmb_emb/norm\n",
    "    \n",
    "    keyList.append(row[0])\n",
    "    cembList.append(cmb_emb_normal)\n",
    "    imageList.append(row['image'])\n",
    "    titleList.append(row['proc_title'])"
   ]
  },
  {
   "cell_type": "code",
   "execution_count": null,
   "metadata": {},
   "outputs": [],
   "source": [
    "keyList=[]\n",
    "val_cembList=[]\n",
    "imageList=[]\n",
    "titleList=[]\n",
    "for index, row in val_dataset.iterrows():\n",
    "    txt_emb = val_text_embeddings[row[0]].cpu().numpy()\n",
    "    img_emb = val_image_embeddings[row[0]]\n",
    "    cmb_emb = np.concatenate((txt_emb,img_emb),axis=0)\n",
    "\n",
    "    norm = np.linalg.norm(cmb_emb)\n",
    "    cmb_emb_normal = cmb_emb/norm\n",
    "    \n",
    "    keyList.append(row[0])\n",
    "    val_cembList.append(cmb_emb_normal)\n",
    "    imageList.append(row['image'])\n",
    "    titleList.append(row['proc_title'])"
   ]
  },
  {
   "cell_type": "code",
   "execution_count": null,
   "metadata": {},
   "outputs": [],
   "source": [
    "acc_dict = {}\n",
    "f1_dict = {}\n",
    "X_train, X_val, y_train, y_val = cembList, val_cembList, training_dataset.label_group, val_dataset.label_group\n",
    "\n",
    "\n",
    "from sklearn.metrics import accuracy_score, f1_score\n",
    "for k in [1, 2, 3, 5, 10, 25, 50, 100]:\n",
    "    knn = KNeighborsClassifier(n_neighbors=k)\n",
    "    knn.fit(X_train, y_train)\n",
    "    y_pred = knn.predict(X_val)\n",
    "\n",
    "    # Evaluate the performance on the test set\n",
    "    accuracy = accuracy_score(y_val, y_pred)\n",
    "    f1 = f1_score(y_val, y_pred, average='weighted')\n",
    "    acc_dict[k] = accuracy\n",
    "    f1_dict[k] = f1\n"
   ]
  },
  {
   "cell_type": "code",
   "execution_count": null,
   "metadata": {},
   "outputs": [
    {
     "data": {
      "text/plain": [
       "Text(0, 0.5, 'Score')"
      ]
     },
     "execution_count": 18,
     "metadata": {},
     "output_type": "execute_result"
    },
    {
     "data": {
      "image/png": "[encoded data removed]",
      "text/plain": [
       "<Figure size 640x480 with 1 Axes>"
      ]
     },
     "metadata": {},
     "output_type": "display_data"
    }
   ],
   "source": [
    "plt.plot(acc_dict.keys(), acc_dict.values(), label='accuracy')\n",
    "plt.plot(f1_dict.keys(), f1_dict.values(), label='f1 score')\n",
    "plt.legend()\n",
    "plt.title('Tuning Number of Neighbors')\n",
    "plt.xlabel('Number of Neighbors')\n",
    "plt.ylabel('Score')"
   ]
  },
  {
   "cell_type": "code",
   "execution_count": 1,
   "metadata": {},
   "outputs": [
    {
     "ename": "NameError",
     "evalue": "name 'testing_dataset' is not defined",
     "output_type": "error",
     "traceback": [
      "\u001b[0;31m---------------------------------------------------------------------------\u001b[0m",
      "\u001b[0;31mNameError\u001b[0m                                 Traceback (most recent call last)",
      "Cell \u001b[0;32mIn[1], line 5\u001b[0m\n\u001b[1;32m      3\u001b[0m test_imageList\u001b[39m=\u001b[39m[]\n\u001b[1;32m      4\u001b[0m test_titleList\u001b[39m=\u001b[39m[]\n\u001b[0;32m----> 5\u001b[0m \u001b[39mfor\u001b[39;00m index, row \u001b[39min\u001b[39;00m testing_dataset\u001b[39m.\u001b[39miterrows():\n\u001b[1;32m      6\u001b[0m     txt_emb \u001b[39m=\u001b[39m test_text_embeddings[row[\u001b[39m0\u001b[39m]]\u001b[39m.\u001b[39mcpu()\u001b[39m.\u001b[39mnumpy()\n\u001b[1;32m      7\u001b[0m     img_emb \u001b[39m=\u001b[39m test_image_embeddings[row[\u001b[39m0\u001b[39m]]\n",
      "\u001b[0;31mNameError\u001b[0m: name 'testing_dataset' is not defined"
     ]
    },
    {
     "name": "stderr",
     "output_type": "stream",
     "text": [
      "Bad pipe message: %s [b'\\xfb?\\xeb\\xb3\\x04\\x8f\\xc2\\x8ah\\x8b\\x8c{k\\x84<U\\xa9\\x0e 7\\xde\\x8e2\\x80^\\xea\\xee\\xc0cl\\x15\\xc0R\\x01F\\x89\\xca9\\x1b\\xa5\\xa5n\\xfc\\xf7']\n",
      "Bad pipe message: %s [b'\\xdd\\xe8\\x07K\\x1a\\x00\\x08\\x13\\x02\\x13\\x03\\x13\\x01\\x00\\xff\\x01\\x00\\x00\\x8f\\x00\\x00\\x00\\x0e\\x00\\x0c\\x00\\x00\\t127.0.0.1\\x00\\x0b\\x00\\x04\\x03\\x00\\x01\\x02\\x00\\n\\x00\\x0c\\x00\\n\\x00\\x1d\\x00\\x17\\x00\\x1e\\x00\\x19\\x00\\x18\\x00#\\x00\\x00\\x00\\x16\\x00\\x00\\x00\\x17\\x00\\x00\\x00\\r\\x00\\x1e\\x00\\x1c\\x04\\x03\\x05\\x03\\x06\\x03\\x08\\x07\\x08\\x08\\x08\\t\\x08\\n\\x08\\x0b\\x08\\x04\\x08\\x05\\x08\\x06\\x04\\x01\\x05\\x01\\x06\\x01\\x00+\\x00\\x03\\x02\\x03\\x04\\x00-\\x00\\x02\\x01\\x01\\x003\\x00&\\x00$\\x00\\x1d\\x00 \\x18\\xdb\\x89\\xb4\\xf6t\\xc7\\x9eS\\xfe\\x9b']\n",
      "Bad pipe message: %s [b\"\\xc7\\x17\\xd4\\xbc\\xe3\\x9f)\\x1dxhQ\\xc3[\\xff?\\x1f\\xbb\\x8d\\x00\\x00|\\xc0,\\xc00\\x00\\xa3\\x00\\x9f\\xcc\\xa9\\xcc\\xa8\\xcc\\xaa\\xc0\\xaf\\xc0\\xad\\xc0\\xa3\\xc0\\x9f\\xc0]\\xc0a\\xc0W\\xc0S\\xc0+\\xc0/\\x00\\xa2\\x00\\x9e\\xc0\\xae\\xc0\\xac\\xc0\\xa2\\xc0\\x9e\\xc0\\\\\\xc0`\\xc0V\\xc0R\\xc0$\\xc0(\\x00k\\x00j\\xc0#\\xc0'\\x00g\\x00@\\xc0\\n\\xc0\\x14\\x009\\x008\\xc0\\t\\xc0\\x13\\x003\\x002\\x00\\x9d\\xc0\\xa1\\xc0\\x9d\\xc0Q\\x00\\x9c\\xc0\\xa0\\xc0\\x9c\\xc0P\\x00=\\x00<\\x005\\x00/\\x00\\x9a\\x00\\x99\\xc0\\x07\\xc0\\x11\\x00\\x96\\x00\\x05\\x00\\xff\\x01\\x00\\x00j\\x00\\x00\\x00\\x0e\\x00\\x0c\\x00\\x00\\t127.0.0.1\\x00\\x0b\\x00\\x04\\x03\\x00\\x01\\x02\\x00\\n\\x00\\x0c\\x00\\n\\x00\\x1d\\x00\\x17\"]\n",
      "Bad pipe message: %s [b':\\xfa$V^\\xbd\\x00\\xa8\\x0f\\xd9\\xcc\\xb8\\x8e\\x1b\\xdc\\xb9\\x16D\\x00\\x00>\\xc0\\x14\\xc0\\n\\x009\\x008\\x007\\x006\\xc0\\x0f\\xc0\\x05\\x005']\n",
      "Bad pipe message: %s [b'5\\x94\\x95\\x90\\x81\\x1a1X6\\xc7\\xc5\\xc4\\xb1.\\x9a\\x9d\\xa84\\x00\\x00\\xa2\\xc0\\x14\\xc0\\n\\x009\\x008\\x007\\x006\\x00\\x88\\x00\\x87\\x00\\x86\\x00\\x85\\xc0\\x19\\x00:\\x00\\x89\\xc0\\x0f\\xc0\\x05\\x005\\x00\\x84\\xc0\\x13\\xc0\\t\\x003\\x002\\x001\\x000\\x00\\x9a\\x00\\x99\\x00\\x98\\x00\\x97\\x00E\\x00D\\x00C\\x00B\\xc0\\x18\\x004\\x00\\x9b\\x00F\\xc0\\x0e\\xc0\\x04\\x00/\\x00\\x96\\x00A\\x00\\x07\\xc0\\x11\\xc0\\x07\\xc0\\x16\\x00\\x18\\xc0\\x0c\\xc0\\x02\\x00\\x05\\x00\\x04\\xc0\\x12\\xc0\\x08\\x00\\x16\\x00\\x13\\x00\\x10\\x00\\r\\xc0\\x17\\x00\\x1b\\xc0\\r\\xc0\\x03\\x00\\n\\x00\\x15\\x00\\x12\\x00\\x0f\\x00\\x0c\\x00\\x1a\\x00\\t\\x00\\x14\\x00\\x11\\x00\\x19\\x00\\x08\\x00\\x06\\x00\\x17\\x00\\x03\\xc0\\x10\\xc0\\x06\\xc0\\x15\\xc0\\x0b\\xc0\\x01\\x00\\x02\\x00\\x01\\x00\\xff\\x02\\x01\\x00\\x00C\\x00\\x00\\x00\\x0e\\x00\\x0c']\n",
      "Bad pipe message: %s [b'\\xd4\\xdd\\x15\\x90Z\\xf1@\\x8bo\\xa2\\xefj\\xad\\xb1\\xf2xr\\x94\\x00\\x00\\xa2\\xc0\\x14\\xc0\\n\\x009\\x008\\x007\\x006\\x00\\x88\\x00\\x87\\x00\\x86\\x00\\x85\\xc0\\x19\\x00:\\x00\\x89\\xc0\\x0f\\xc0\\x05\\x005\\x00\\x84\\xc0\\x13\\xc0\\t\\x003\\x002\\x001\\x000\\x00\\x9a\\x00\\x99\\x00\\x98\\x00\\x97\\x00E\\x00D\\x00C\\x00B\\xc0\\x18\\x004\\x00\\x9b\\x00F\\xc0\\x0e\\xc0\\x04\\x00/\\x00\\x96\\x00A\\x00\\x07\\xc0\\x11\\xc0\\x07\\xc0\\x16\\x00\\x18\\xc0\\x0c\\xc0\\x02\\x00\\x05\\x00\\x04\\xc0\\x12\\xc0\\x08\\x00\\x16\\x00\\x13\\x00\\x10\\x00\\r\\xc0\\x17\\x00\\x1b\\xc0\\r\\xc0\\x03\\x00\\n\\x00\\x15\\x00\\x12\\x00\\x0f\\x00\\x0c\\x00\\x1a\\x00\\t\\x00\\x14\\x00\\x11\\x00\\x19\\x00\\x08\\x00\\x06\\x00\\x17\\x00\\x03\\xc0\\x10\\xc0\\x06\\xc0\\x15\\xc0\\x0b\\xc0\\x01\\x00\\x02\\x00\\x01\\x00\\xff\\x02\\x01\\x00\\x00C\\x00\\x00\\x00\\x0e\\x00\\x0c\\x00\\x00\\t127.0.0.1\\x00\\x0b\\x00\\x04\\x03\\x00\\x01\\x02\\x00', b'\\x1c\\x00\\x1a\\x00\\x17\\x00\\x19\\x00\\x1c']\n",
      "Bad pipe message: %s [b'\\xee\\xc3|\\xfb\\x9c\\x82\\x80\\x03\\x16\\x7fw\\x04[\\xec\\x1c\\x07\\xddW\\x00\\x00\\xa2\\xc0\\x14\\xc0\\n\\x009\\x008\\x007\\x006\\x00\\x88\\x00\\x87\\x00\\x86\\x00\\x85\\xc0\\x19\\x00:\\x00\\x89\\xc0\\x0f\\xc0\\x05\\x005\\x00\\x84\\xc0\\x13\\xc0\\t\\x003\\x002\\x001\\x000\\x00\\x9a\\x00\\x99\\x00\\x98\\x00\\x97\\x00E\\x00D\\x00']\n",
      "Bad pipe message: %s [b'B\\xc0\\x18\\x004\\x00\\x9b\\x00F\\xc0\\x0e\\xc0\\x04\\x00/\\x00\\x96\\x00A\\x00\\x07\\xc0\\x11\\xc0\\x07\\xc0\\x16\\x00\\x18\\xc0\\x0c\\xc0\\x02\\x00\\x05\\x00\\x04\\xc0\\x12\\xc0\\x08\\x00\\x16\\x00\\x13\\x00\\x10\\x00\\r\\xc0\\x17\\x00\\x1b\\xc0\\r\\xc0\\x03\\x00\\n\\x00\\x15\\x00\\x12\\x00\\x0f\\x00']\n",
      "Bad pipe message: %s [b'\\x1a\\x00\\t\\x00\\x14\\x00\\x11\\x00\\x19\\x00\\x08']\n"
     ]
    }
   ],
   "source": [
    "keyList=[]\n",
    "test_cembList=[]\n",
    "test_imageList=[]\n",
    "test_titleList=[]\n",
    "for index, row in testing_dataset.iterrows():\n",
    "    txt_emb = test_text_embeddings[row[0]].cpu().numpy()\n",
    "    img_emb = test_image_embeddings[row[0]]\n",
    "    cmb_emb = np.concatenate((txt_emb,img_emb),axis=0)\n",
    "\n",
    "    norm = np.linalg.norm(cmb_emb)\n",
    "    cmb_emb_normal = cmb_emb/norm\n",
    "    \n",
    "    keyList.append(row[0])\n",
    "    test_cembList.append(cmb_emb_normal)\n",
    "    test_imageList.append(row['image'])\n",
    "    test_titleList.append(row['proc_title'])"
   ]
  },
  {
   "cell_type": "code",
   "execution_count": null,
   "metadata": {},
   "outputs": [
    {
     "name": "stdout",
     "output_type": "stream",
     "text": [
      "Accuracy = 0.40817518248175183\n",
      "F1 score = 0.37408679172637144\n"
     ]
    }
   ],
   "source": [
    "X_test, y_test = test_cembList, testing_dataset.label_group\n",
    "\n",
    "knn = KNeighborsClassifier(n_neighbors=2)\n",
    "knn.fit(X_train, y_train)\n",
    "y_pred = knn.predict(X_test)\n",
    "accuracy = accuracy_score(y_test, y_pred)\n",
    "f1 = f1_score(y_test, y_pred, average='weighted')\n",
    "print(f'Accuracy = {accuracy}')\n",
    "print(f'F1 score = {f1}')"
   ]
  }
 ],
 "metadata": {
  "kernelspec": {
   "display_name": ".venv",
   "language": "python",
   "name": "python3"
  },
  "language_info": {
   "codemirror_mode": {
    "name": "ipython",
    "version": 3
   },
   "file_extension": ".py",
   "mimetype": "text/x-python",
   "name": "python",
   "nbconvert_exporter": "python",
   "pygments_lexer": "ipython3",
   "version": "3.11.2"
  },
  "orig_nbformat": 4
 },
 "nbformat": 4,
 "nbformat_minor": 2
}
