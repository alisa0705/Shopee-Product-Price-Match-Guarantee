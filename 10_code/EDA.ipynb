{
 "cells": [
  {
   "cell_type": "markdown",
   "metadata": {},
   "source": [
    "# EDA"
   ]
  },
  {
   "cell_type": "code",
   "execution_count": 91,
   "metadata": {},
   "outputs": [],
   "source": [
    "import pandas as pd\n",
    "import matplotlib.pyplot as plt\n",
    "import numpy as np\n",
    "import cv2\n",
    "import textwrap as wrap\n",
    "\n",
    "\n",
    "train = pd.read_csv('/workspaces/Shopee-Price-Match-Guarantee/15_after_processed/train.csv')\n",
    "val = pd.read_csv('/workspaces/Shopee-Price-Match-Guarantee/15_after_processed/val.csv')\n",
    "test = pd.read_csv('/workspaces/Shopee-Price-Match-Guarantee/15_after_processed/test.csv')"
   ]
  },
  {
   "cell_type": "code",
   "execution_count": 92,
   "metadata": {},
   "outputs": [
    {
     "data": {
      "text/html": [
       "<div>\n",
       "<style scoped>\n",
       "    .dataframe tbody tr th:only-of-type {\n",
       "        vertical-align: middle;\n",
       "    }\n",
       "\n",
       "    .dataframe tbody tr th {\n",
       "        vertical-align: top;\n",
       "    }\n",
       "\n",
       "    .dataframe thead th {\n",
       "        text-align: right;\n",
       "    }\n",
       "</style>\n",
       "<table border=\"1\" class=\"dataframe\">\n",
       "  <thead>\n",
       "    <tr style=\"text-align: right;\">\n",
       "      <th></th>\n",
       "      <th>posting_id</th>\n",
       "      <th>image</th>\n",
       "      <th>image_phash</th>\n",
       "      <th>title</th>\n",
       "      <th>label_group</th>\n",
       "    </tr>\n",
       "  </thead>\n",
       "  <tbody>\n",
       "    <tr>\n",
       "      <th>0</th>\n",
       "      <td>train_2249428809</td>\n",
       "      <td>40d304f91be807fed3b796a158a034f7.jpg</td>\n",
       "      <td>bc69d33e86b491c1</td>\n",
       "      <td>AMTECH Klem C Set 3 Pcs - Catok Clamp 1 2 3 Inch</td>\n",
       "      <td>3685949317</td>\n",
       "    </tr>\n",
       "    <tr>\n",
       "      <th>1</th>\n",
       "      <td>train_1453612941</td>\n",
       "      <td>e05aa71652e2546dbc2a6a2d18cc4aa7.jpg</td>\n",
       "      <td>bcfcc1a80ee930da</td>\n",
       "      <td>Cetakan Kue Pukis 10 Lubang Pancong Teflon Ran...</td>\n",
       "      <td>2236232282</td>\n",
       "    </tr>\n",
       "    <tr>\n",
       "      <th>2</th>\n",
       "      <td>train_414717665</td>\n",
       "      <td>0c0f97f726132be83c7b84e0ca9e604e.jpg</td>\n",
       "      <td>bc4aa5a5de34d2e0</td>\n",
       "      <td>(COD)TAS TOTE BAG T76 TAS CANVAS FASHION WANIT...</td>\n",
       "      <td>3145779110</td>\n",
       "    </tr>\n",
       "    <tr>\n",
       "      <th>3</th>\n",
       "      <td>train_404098311</td>\n",
       "      <td>fedf1394058d6e439698356c0be6f4d6.jpg</td>\n",
       "      <td>cbceb1a14e8bf046</td>\n",
       "      <td>(1kg=7pcs) MEIRA CARDIGAN CARDI OUTHER TANPA J...</td>\n",
       "      <td>4171236554</td>\n",
       "    </tr>\n",
       "    <tr>\n",
       "      <th>4</th>\n",
       "      <td>train_653040440</td>\n",
       "      <td>cfb08184ebbef7a5409e1bd1a0f6d0d9.jpg</td>\n",
       "      <td>c44eec61e516d2b9</td>\n",
       "      <td>Wardah Lightening Day Cream 30gr or  night cre...</td>\n",
       "      <td>1774190279</td>\n",
       "    </tr>\n",
       "  </tbody>\n",
       "</table>\n",
       "</div>"
      ],
      "text/plain": [
       "         posting_id                                 image       image_phash  \\\n",
       "0  train_2249428809  40d304f91be807fed3b796a158a034f7.jpg  bc69d33e86b491c1   \n",
       "1  train_1453612941  e05aa71652e2546dbc2a6a2d18cc4aa7.jpg  bcfcc1a80ee930da   \n",
       "2   train_414717665  0c0f97f726132be83c7b84e0ca9e604e.jpg  bc4aa5a5de34d2e0   \n",
       "3   train_404098311  fedf1394058d6e439698356c0be6f4d6.jpg  cbceb1a14e8bf046   \n",
       "4   train_653040440  cfb08184ebbef7a5409e1bd1a0f6d0d9.jpg  c44eec61e516d2b9   \n",
       "\n",
       "                                               title  label_group  \n",
       "0   AMTECH Klem C Set 3 Pcs - Catok Clamp 1 2 3 Inch   3685949317  \n",
       "1  Cetakan Kue Pukis 10 Lubang Pancong Teflon Ran...   2236232282  \n",
       "2  (COD)TAS TOTE BAG T76 TAS CANVAS FASHION WANIT...   3145779110  \n",
       "3  (1kg=7pcs) MEIRA CARDIGAN CARDI OUTHER TANPA J...   4171236554  \n",
       "4  Wardah Lightening Day Cream 30gr or  night cre...   1774190279  "
      ]
     },
     "execution_count": 92,
     "metadata": {},
     "output_type": "execute_result"
    }
   ],
   "source": [
    "train.head()"
   ]
  },
  {
   "cell_type": "code",
   "execution_count": 93,
   "metadata": {},
   "outputs": [
    {
     "data": {
      "text/plain": [
       "(21920, 5)"
      ]
     },
     "execution_count": 93,
     "metadata": {},
     "output_type": "execute_result"
    }
   ],
   "source": [
    "train.shape"
   ]
  },
  {
   "cell_type": "code",
   "execution_count": 94,
   "metadata": {},
   "outputs": [
    {
     "data": {
      "text/plain": [
       "10019"
      ]
     },
     "execution_count": 94,
     "metadata": {},
     "output_type": "execute_result"
    }
   ],
   "source": [
    "unique_labels = train['label_group'].unique()\n",
    "len(unique_labels)"
   ]
  },
  {
   "cell_type": "code",
   "execution_count": 95,
   "metadata": {},
   "outputs": [
    {
     "data": {
      "text/plain": [
       "21082"
      ]
     },
     "execution_count": 95,
     "metadata": {},
     "output_type": "execute_result"
    }
   ],
   "source": [
    "# how many images in total\n",
    "train[\"image\"].nunique()"
   ]
  },
  {
   "cell_type": "code",
   "execution_count": 96,
   "metadata": {},
   "outputs": [
    {
     "data": {
      "text/html": [
       "<div>\n",
       "<style scoped>\n",
       "    .dataframe tbody tr th:only-of-type {\n",
       "        vertical-align: middle;\n",
       "    }\n",
       "\n",
       "    .dataframe tbody tr th {\n",
       "        vertical-align: top;\n",
       "    }\n",
       "\n",
       "    .dataframe thead th {\n",
       "        text-align: right;\n",
       "    }\n",
       "</style>\n",
       "<table border=\"1\" class=\"dataframe\">\n",
       "  <thead>\n",
       "    <tr style=\"text-align: right;\">\n",
       "      <th></th>\n",
       "      <th>posting_id</th>\n",
       "      <th>image</th>\n",
       "      <th>image_phash</th>\n",
       "      <th>title</th>\n",
       "    </tr>\n",
       "    <tr>\n",
       "      <th>label_group</th>\n",
       "      <th></th>\n",
       "      <th></th>\n",
       "      <th></th>\n",
       "      <th></th>\n",
       "    </tr>\n",
       "  </thead>\n",
       "  <tbody>\n",
       "    <tr>\n",
       "      <th>159351600</th>\n",
       "      <td>41</td>\n",
       "      <td>41</td>\n",
       "      <td>41</td>\n",
       "      <td>41</td>\n",
       "    </tr>\n",
       "    <tr>\n",
       "      <th>1141798720</th>\n",
       "      <td>40</td>\n",
       "      <td>40</td>\n",
       "      <td>40</td>\n",
       "      <td>40</td>\n",
       "    </tr>\n",
       "    <tr>\n",
       "      <th>562358068</th>\n",
       "      <td>34</td>\n",
       "      <td>34</td>\n",
       "      <td>34</td>\n",
       "      <td>34</td>\n",
       "    </tr>\n",
       "    <tr>\n",
       "      <th>3627744656</th>\n",
       "      <td>32</td>\n",
       "      <td>32</td>\n",
       "      <td>32</td>\n",
       "      <td>32</td>\n",
       "    </tr>\n",
       "    <tr>\n",
       "      <th>3113678103</th>\n",
       "      <td>32</td>\n",
       "      <td>32</td>\n",
       "      <td>32</td>\n",
       "      <td>32</td>\n",
       "    </tr>\n",
       "    <tr>\n",
       "      <th>...</th>\n",
       "      <td>...</td>\n",
       "      <td>...</td>\n",
       "      <td>...</td>\n",
       "      <td>...</td>\n",
       "    </tr>\n",
       "    <tr>\n",
       "      <th>2837668850</th>\n",
       "      <td>1</td>\n",
       "      <td>1</td>\n",
       "      <td>1</td>\n",
       "      <td>1</td>\n",
       "    </tr>\n",
       "    <tr>\n",
       "      <th>2837888168</th>\n",
       "      <td>1</td>\n",
       "      <td>1</td>\n",
       "      <td>1</td>\n",
       "      <td>1</td>\n",
       "    </tr>\n",
       "    <tr>\n",
       "      <th>2838027152</th>\n",
       "      <td>1</td>\n",
       "      <td>1</td>\n",
       "      <td>1</td>\n",
       "      <td>1</td>\n",
       "    </tr>\n",
       "    <tr>\n",
       "      <th>2839256080</th>\n",
       "      <td>1</td>\n",
       "      <td>1</td>\n",
       "      <td>1</td>\n",
       "      <td>1</td>\n",
       "    </tr>\n",
       "    <tr>\n",
       "      <th>2148246510</th>\n",
       "      <td>1</td>\n",
       "      <td>1</td>\n",
       "      <td>1</td>\n",
       "      <td>1</td>\n",
       "    </tr>\n",
       "  </tbody>\n",
       "</table>\n",
       "<p>10019 rows × 4 columns</p>\n",
       "</div>"
      ],
      "text/plain": [
       "             posting_id  image  image_phash  title\n",
       "label_group                                       \n",
       "159351600            41     41           41     41\n",
       "1141798720           40     40           40     40\n",
       "562358068            34     34           34     34\n",
       "3627744656           32     32           32     32\n",
       "3113678103           32     32           32     32\n",
       "...                 ...    ...          ...    ...\n",
       "2837668850            1      1            1      1\n",
       "2837888168            1      1            1      1\n",
       "2838027152            1      1            1      1\n",
       "2839256080            1      1            1      1\n",
       "2148246510            1      1            1      1\n",
       "\n",
       "[10019 rows x 4 columns]"
      ]
     },
     "execution_count": 96,
     "metadata": {},
     "output_type": "execute_result"
    }
   ],
   "source": [
    "train.groupby('label_group').count().sort_values(by='posting_id', ascending=False)"
   ]
  },
  {
   "cell_type": "code",
   "execution_count": 97,
   "metadata": {},
   "outputs": [
    {
     "data": {
      "text/plain": [
       "count    21920.000000\n",
       "mean         9.427920\n",
       "std          4.470647\n",
       "min          1.000000\n",
       "25%          6.000000\n",
       "50%          9.000000\n",
       "75%         12.000000\n",
       "max         61.000000\n",
       "Name: title, dtype: float64"
      ]
     },
     "execution_count": 97,
     "metadata": {},
     "output_type": "execute_result"
    }
   ],
   "source": [
    "# check title length range by word\n",
    "train['title'].str.split().apply(lambda x: len(x)).describe()"
   ]
  },
  {
   "cell_type": "code",
   "execution_count": 98,
   "metadata": {},
   "outputs": [
    {
     "data": {
      "text/plain": [
       "21443"
      ]
     },
     "execution_count": 98,
     "metadata": {},
     "output_type": "execute_result"
    }
   ],
   "source": [
    "title_unique = train['title'].nunique()\n",
    "title_unique"
   ]
  },
  {
   "cell_type": "code",
   "execution_count": 99,
   "metadata": {},
   "outputs": [
    {
     "data": {
      "text/plain": [
       "21920"
      ]
     },
     "execution_count": 99,
     "metadata": {},
     "output_type": "execute_result"
    }
   ],
   "source": [
    "# check the id count\n",
    "posting_unique = train['posting_id'].nunique()\n",
    "posting_unique"
   ]
  },
  {
   "cell_type": "code",
   "execution_count": 100,
   "metadata": {},
   "outputs": [
    {
     "data": {
      "text/plain": [
       "0.9782390510948905"
      ]
     },
     "execution_count": 100,
     "metadata": {},
     "output_type": "execute_result"
    }
   ],
   "source": [
    "title_unique/posting_unique"
   ]
  },
  {
   "cell_type": "code",
   "execution_count": 101,
   "metadata": {},
   "outputs": [
    {
     "data": {
      "text/plain": [
       "21920"
      ]
     },
     "execution_count": 101,
     "metadata": {},
     "output_type": "execute_result"
    }
   ],
   "source": [
    "len(train['posting_id'])"
   ]
  },
  {
   "cell_type": "code",
   "execution_count": 102,
   "metadata": {},
   "outputs": [
    {
     "data": {
      "text/plain": [
       "0.8786952554744526"
      ]
     },
     "execution_count": 102,
     "metadata": {},
     "output_type": "execute_result"
    }
   ],
   "source": [
    "train[\"image_phash\"].nunique() / len(train[\"image_phash\"])"
   ]
  },
  {
   "cell_type": "code",
   "execution_count": 103,
   "metadata": {},
   "outputs": [],
   "source": [
    "# check the distribution of the number of images in each group\n",
    "group_img_dist = train.groupby('label_group').count().sort_values(by='posting_id', ascending=False)['posting_id'].value_counts()\n"
   ]
  },
  {
   "cell_type": "code",
   "execution_count": 104,
   "metadata": {},
   "outputs": [
    {
     "data": {
      "text/html": [
       "<div>\n",
       "<style scoped>\n",
       "    .dataframe tbody tr th:only-of-type {\n",
       "        vertical-align: middle;\n",
       "    }\n",
       "\n",
       "    .dataframe tbody tr th {\n",
       "        vertical-align: top;\n",
       "    }\n",
       "\n",
       "    .dataframe thead th {\n",
       "        text-align: right;\n",
       "    }\n",
       "</style>\n",
       "<table border=\"1\" class=\"dataframe\">\n",
       "  <thead>\n",
       "    <tr style=\"text-align: right;\">\n",
       "      <th></th>\n",
       "      <th>posting_id</th>\n",
       "    </tr>\n",
       "  </thead>\n",
       "  <tbody>\n",
       "    <tr>\n",
       "      <th>2</th>\n",
       "      <td>4055</td>\n",
       "    </tr>\n",
       "    <tr>\n",
       "      <th>1</th>\n",
       "      <td>3811</td>\n",
       "    </tr>\n",
       "    <tr>\n",
       "      <th>3</th>\n",
       "      <td>1065</td>\n",
       "    </tr>\n",
       "    <tr>\n",
       "      <th>4</th>\n",
       "      <td>455</td>\n",
       "    </tr>\n",
       "    <tr>\n",
       "      <th>5</th>\n",
       "      <td>212</td>\n",
       "    </tr>\n",
       "  </tbody>\n",
       "</table>\n",
       "</div>"
      ],
      "text/plain": [
       "   posting_id\n",
       "2        4055\n",
       "1        3811\n",
       "3        1065\n",
       "4         455\n",
       "5         212"
      ]
     },
     "execution_count": 104,
     "metadata": {},
     "output_type": "execute_result"
    }
   ],
   "source": [
    "# change group_img_dist to dataframe\n",
    "group_img_dist = pd.DataFrame(group_img_dist)\n",
    "group_img_dist.head()"
   ]
  },
  {
   "cell_type": "code",
   "execution_count": 105,
   "metadata": {},
   "outputs": [],
   "source": [
    "# for group_img_dist, combine 1 to 3, and sum the posting_id count\n",
    "img_count_1_3 = group_img_dist.loc[1:3].sum()\n",
    "img_count_4_10 = group_img_dist.loc[4:10].sum()\n",
    "img_count_11_more = group_img_dist.loc[11:].sum()"
   ]
  },
  {
   "cell_type": "code",
   "execution_count": 106,
   "metadata": {},
   "outputs": [],
   "source": [
    "img_dist = [img_count_1_3, img_count_4_10, img_count_11_more]"
   ]
  },
  {
   "cell_type": "code",
   "execution_count": 107,
   "metadata": {},
   "outputs": [],
   "source": [
    "img_dist = pd.DataFrame(img_dist)"
   ]
  },
  {
   "cell_type": "code",
   "execution_count": 108,
   "metadata": {},
   "outputs": [],
   "source": [
    "# insert first column to img_dist as \"image_count\" and set the value to \"Less than 3 images\", \"4 to 10 images\", \"11 and more images\"\n",
    "img_dist.insert(0, \"image_count\", [\"Less than 3 images\", \"4 to 10 images\", \"11 and more images\"], True)\n",
    "\n",
    "# rename the column name\n",
    "img_dist.rename(columns={0: \"count\"}, inplace=True)\n",
    "\n",
    "# reset the index\n",
    "img_dist.reset_index(drop=True, inplace=True)"
   ]
  },
  {
   "cell_type": "code",
   "execution_count": 109,
   "metadata": {},
   "outputs": [
    {
     "data": {
      "text/html": [
       "<div>\n",
       "<style scoped>\n",
       "    .dataframe tbody tr th:only-of-type {\n",
       "        vertical-align: middle;\n",
       "    }\n",
       "\n",
       "    .dataframe tbody tr th {\n",
       "        vertical-align: top;\n",
       "    }\n",
       "\n",
       "    .dataframe thead th {\n",
       "        text-align: right;\n",
       "    }\n",
       "</style>\n",
       "<table border=\"1\" class=\"dataframe\">\n",
       "  <thead>\n",
       "    <tr style=\"text-align: right;\">\n",
       "      <th></th>\n",
       "      <th>image_count</th>\n",
       "      <th>posting_id</th>\n",
       "    </tr>\n",
       "  </thead>\n",
       "  <tbody>\n",
       "    <tr>\n",
       "      <th>0</th>\n",
       "      <td>Less than 3 images</td>\n",
       "      <td>4876</td>\n",
       "    </tr>\n",
       "    <tr>\n",
       "      <th>1</th>\n",
       "      <td>4 to 10 images</td>\n",
       "      <td>1013</td>\n",
       "    </tr>\n",
       "    <tr>\n",
       "      <th>2</th>\n",
       "      <td>11 and more images</td>\n",
       "      <td>113</td>\n",
       "    </tr>\n",
       "  </tbody>\n",
       "</table>\n",
       "</div>"
      ],
      "text/plain": [
       "          image_count  posting_id\n",
       "0  Less than 3 images        4876\n",
       "1      4 to 10 images        1013\n",
       "2  11 and more images         113"
      ]
     },
     "execution_count": 109,
     "metadata": {},
     "output_type": "execute_result"
    }
   ],
   "source": [
    "img_dist"
   ]
  },
  {
   "cell_type": "code",
   "execution_count": 110,
   "metadata": {},
   "outputs": [
    {
     "data": {
      "image/png": "[encoded data removed]",
      "text/plain": [
       "<Figure size 1000x1000 with 1 Axes>"
      ]
     },
     "metadata": {},
     "output_type": "display_data"
    }
   ],
   "source": [
    "# plot the pie chart\n",
    "plt.figure(figsize=(10,10))\n",
    "explode = [0.05]*len(img_dist) # add a slight separation between pie slices\n",
    "colors = ['#007acc', '#52c41a', '#faad14', '#f5222d'] # custom color palette\n",
    "plt.pie(img_dist['posting_id'], labels=None, autopct='%.1f%%',textprops={'fontsize': 30}, shadow=True, startangle=90, explode=explode, colors=colors)\n",
    "plt.legend(labels=img_dist['image_count'], title='Number of Images', title_fontsize=20, loc=\"best\", bbox_to_anchor=(1, 0.5), fontsize=20)\n",
    "plt.title('Number of Images in the Same Group', fontsize=26)\n",
    "plt.axis('equal')\n",
    "plt.show()\n",
    "\n",
    "\n"
   ]
  },
  {
   "cell_type": "code",
   "execution_count": 111,
   "metadata": {},
   "outputs": [],
   "source": [
    "PATH_TO_IMG = '/workspaces/Shopee-Price-Match-Guarantee/15_after_processed/train_images/'"
   ]
  },
  {
   "cell_type": "code",
   "execution_count": 112,
   "metadata": {},
   "outputs": [],
   "source": [
    "def show_same_img():\n",
    "    # choose randomly two instances per each class\n",
    "    labels_to_show = np.random.choice(train.label_group.unique(), \n",
    "                                      replace=True, size=27)\n",
    "    img_to_show = []\n",
    "    for label in labels_to_show:\n",
    "        rows = train[train.label_group==label].copy()\n",
    "        pair = np.random.choice([i for i in range(len(rows))], \n",
    "                                    replace=True, size=2)\n",
    "        img_pair = rows.iloc[pair][['image', 'title']].values\n",
    "        \n",
    "        img_to_show += list(img_pair)\n",
    "    \n",
    "    fig, axes = plt.subplots(figsize = (18, 12), nrows=2,ncols=2)\n",
    "    for imp, ax in zip(img_to_show, axes.ravel()):\n",
    "        img = cv2.imread(PATH_TO_IMG + imp[0])\n",
    "        title = '\\n'.join(wrap(imp[1], 20))\n",
    "        ax.set_title(title)\n",
    "        ax.imshow(img)\n",
    "        ax.axis('off')\n",
    "\n",
    "    fig.tight_layout()"
   ]
  },
  {
   "cell_type": "code",
   "execution_count": null,
   "metadata": {},
   "outputs": [],
   "source": []
  }
 ],
 "metadata": {
  "kernelspec": {
   "display_name": "base",
   "language": "python",
   "name": "python3"
  },
  "language_info": {
   "codemirror_mode": {
    "name": "ipython",
    "version": 3
   },
   "file_extension": ".py",
   "mimetype": "text/x-python",
   "name": "python",
   "nbconvert_exporter": "python",
   "pygments_lexer": "ipython3",
   "version": "3.11.2"
  },
  "orig_nbformat": 4
 },
 "nbformat": 4,
 "nbformat_minor": 2
}
