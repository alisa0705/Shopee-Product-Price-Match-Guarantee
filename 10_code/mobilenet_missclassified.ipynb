{
 "cells": [
  {
   "cell_type": "code",
   "execution_count": 2,
   "metadata": {},
   "outputs": [],
   "source": [
    "import pandas as pd\n",
    "import numpy as np\n",
    "import re\n",
    "\n",
    "from torch import nn\n",
    "import nltk\n",
    "import pandas as pd\n",
    "import matplotlib.pyplot as plt\n",
    "from sentence_transformers import *\n",
    "import torchvision.models as models\n",
    "\n",
    "\n",
    "import torch.nn as nn\n",
    "from transformers import BertModel, BertTokenizer\n",
    "import torch.nn as nn\n",
    "import torch.nn.functional as F\n",
    "from sentence_transformers import SentenceTransformer, util\n",
    "from sklearn.model_selection import train_test_split\n",
    "import seaborn as sns\n",
    "from sklearn.neighbors import NearestNeighbors\n",
    "from torch.nn import Transformer\n",
    "from sklearn.neighbors import KNeighborsClassifier\n",
    "from sklearn.metrics import accuracy_score\n",
    "\n",
    "\n",
    "# import pre-processed data\n",
    "import pandas as pd\n",
    "import numpy as np\n",
    "import os\n",
    "import cv2\n",
    "import matplotlib.pyplot as plt\n",
    "import PIL\n",
    "import tensorflow as tf\n",
    "#import keras_toolkit as kt\n",
    "import keras.backend as K\n",
    "from sklearn.model_selection import train_test_split\n",
    "from textwrap import wrap"
   ]
  },
  {
   "cell_type": "code",
   "execution_count": 3,
   "metadata": {},
   "outputs": [],
   "source": [
    "training_dataset = pd.read_csv('/workspaces/Shopee-Price-Match-Guarantee/15_after_processed/train.csv')\n",
    "val_dataset = pd.read_csv('/workspaces/Shopee-Price-Match-Guarantee/15_after_processed/val.csv')\n",
    "testing_dataset = pd.read_csv('/workspaces/Shopee-Price-Match-Guarantee/15_after_processed/test.csv')"
   ]
  },
  {
   "cell_type": "code",
   "execution_count": 4,
   "metadata": {},
   "outputs": [
    {
     "name": "stdout",
     "output_type": "stream",
     "text": [
      "Downloading data from https://storage.googleapis.com/tensorflow/keras-applications/mobilenet/mobilenet_1_0_224_tf_no_top.h5\n",
      "17225924/17225924 [==============================] - 0s 0us/step\n"
     ]
    }
   ],
   "source": [
    "IMG_SIZE = 224\n",
    "size = (IMG_SIZE,IMG_SIZE)\n",
    "img_model = tf.keras.applications.MobileNet(input_shape = (IMG_SIZE, IMG_SIZE, 3), include_top = False, weights = 'imagenet' )\n",
    "def get_imageEmbeddings(model,imagePath):\n",
    "    image = tf.keras.preprocessing.image.load_img(imagePath,target_size= size)\n",
    "    input_arr = tf.keras.preprocessing.image.img_to_array(image)\n",
    "    input_arr = np.array([input_arr])\n",
    "    img_embeddings = model(input_arr)\n",
    "    meanImgEmb1 = np.mean(img_embeddings,axis =0)\n",
    "    meanImgEmb2 = np.mean(meanImgEmb1,axis=0)\n",
    "    meanImgEmb = np.mean(meanImgEmb2,axis=0)\n",
    "    return meanImgEmb"
   ]
  },
  {
   "cell_type": "code",
   "execution_count": 5,
   "metadata": {},
   "outputs": [],
   "source": [
    "image_embeddings={}\n",
    "for index,row in  training_dataset.iterrows():\n",
    "    imagePath = '/workspaces/Shopee-Price-Match-Guarantee/00_source_data/shopee-product-matching/train_images/'+row[1]\n",
    "    img_emb = get_imageEmbeddings(img_model,imagePath)\n",
    "    image_embeddings[row[0]] = img_emb\n",
    "\n",
    "val_image_embeddings={}\n",
    "for index,row in  val_dataset.iterrows():\n",
    "    imagePath = '/workspaces/Shopee-Price-Match-Guarantee/00_source_data/shopee-product-matching/train_images/'+row[1]\n",
    "    img_emb = get_imageEmbeddings(img_model,imagePath)\n",
    "    val_image_embeddings[row[0]] = img_emb"
   ]
  },
  {
   "cell_type": "code",
   "execution_count": 17,
   "metadata": {},
   "outputs": [
    {
     "name": "stdout",
     "output_type": "stream",
     "text": [
      "For k=1, 3235 out of 5480 data points are misclassified.\n",
      "For k=2, 3764 out of 5480 data points are misclassified.\n",
      "For k=3, 3960 out of 5480 data points are misclassified.\n",
      "For k=5, 4192 out of 5480 data points are misclassified.\n",
      "For k=10, 4442 out of 5480 data points are misclassified.\n",
      "For k=25, 4720 out of 5480 data points are misclassified.\n",
      "For k=50, 4910 out of 5480 data points are misclassified.\n",
      "For k=100, 5042 out of 5480 data points are misclassified.\n"
     ]
    }
   ],
   "source": [
    "X_train, X_val, y_train, y_val = image_embeddings, val_image_embeddings, training_dataset.label_group, val_dataset.label_group\n",
    "\n",
    "# Convert X_val to a pandas DataFrame\n",
    "X_val_df = pd.DataFrame.from_dict(X_val, orient='index')\n",
    "\n",
    "results = []\n",
    "\n",
    "for k in [1, 2, 3, 5, 10, 25, 50, 100]:\n",
    "    knn = KNeighborsClassifier(n_neighbors=k)\n",
    "    knn.fit(list(X_train.values()), y_train)\n",
    "    y_pred = knn.predict(list(X_val.values()))\n",
    "    \n",
    "    # Find misclassified data points\n",
    "    misclassified_indices = np.where(y_pred != y_val)[0]\n",
    "    misclassified_data = X_val_df.iloc[misclassified_indices]\n",
    "    misclassified_labels = y_val.iloc[misclassified_indices]\n",
    "    predicted_labels = y_pred[misclassified_indices]\n",
    "    \n",
    "    print(f\"For k={k}, {len(misclassified_indices)} out of {len(y_val)} data points are misclassified.\")\n",
    "    \n",
    "    for i in misclassified_indices:\n",
    "        result = {'K': k, 'True label': y_val.iloc[i], 'Predicted label': y_pred[i]}\n",
    "        results.append(result)\n",
    "    \n",
    "df_results = pd.DataFrame(results)\n"
   ]
  },
  {
   "cell_type": "code",
   "execution_count": 21,
   "metadata": {},
   "outputs": [
    {
     "data": {
      "text/html": [
       "<div>\n",
       "<style scoped>\n",
       "    .dataframe tbody tr th:only-of-type {\n",
       "        vertical-align: middle;\n",
       "    }\n",
       "\n",
       "    .dataframe tbody tr th {\n",
       "        vertical-align: top;\n",
       "    }\n",
       "\n",
       "    .dataframe thead th {\n",
       "        text-align: right;\n",
       "    }\n",
       "</style>\n",
       "<table border=\"1\" class=\"dataframe\">\n",
       "  <thead>\n",
       "    <tr style=\"text-align: right;\">\n",
       "      <th></th>\n",
       "      <th>K</th>\n",
       "      <th>True label</th>\n",
       "      <th>Predicted label</th>\n",
       "    </tr>\n",
       "  </thead>\n",
       "  <tbody>\n",
       "    <tr>\n",
       "      <th>0</th>\n",
       "      <td>1</td>\n",
       "      <td>631365480</td>\n",
       "      <td>2000614473</td>\n",
       "    </tr>\n",
       "    <tr>\n",
       "      <th>1</th>\n",
       "      <td>1</td>\n",
       "      <td>3651485151</td>\n",
       "      <td>4152361552</td>\n",
       "    </tr>\n",
       "    <tr>\n",
       "      <th>2</th>\n",
       "      <td>1</td>\n",
       "      <td>663012346</td>\n",
       "      <td>2101072117</td>\n",
       "    </tr>\n",
       "    <tr>\n",
       "      <th>3</th>\n",
       "      <td>1</td>\n",
       "      <td>1761007187</td>\n",
       "      <td>3319810322</td>\n",
       "    </tr>\n",
       "    <tr>\n",
       "      <th>4</th>\n",
       "      <td>1</td>\n",
       "      <td>4069659242</td>\n",
       "      <td>2913737300</td>\n",
       "    </tr>\n",
       "  </tbody>\n",
       "</table>\n",
       "</div>"
      ],
      "text/plain": [
       "   K  True label  Predicted label\n",
       "0  1   631365480       2000614473\n",
       "1  1  3651485151       4152361552\n",
       "2  1   663012346       2101072117\n",
       "3  1  1761007187       3319810322\n",
       "4  1  4069659242       2913737300"
      ]
     },
     "execution_count": 21,
     "metadata": {},
     "output_type": "execute_result"
    }
   ],
   "source": [
    "df_results.head()"
   ]
  },
  {
   "cell_type": "code",
   "execution_count": 19,
   "metadata": {},
   "outputs": [],
   "source": [
    "path_to_csv='/workspaces/Shopee-Price-Match-Guarantee/30_results/MobileNet_missclassified.csv'"
   ]
  },
  {
   "cell_type": "code",
   "execution_count": 20,
   "metadata": {},
   "outputs": [],
   "source": [
    "df_results.to_csv(path_to_csv, index=False)"
   ]
  }
 ],
 "metadata": {
  "kernelspec": {
   "display_name": ".venv",
   "language": "python",
   "name": "python3"
  },
  "language_info": {
   "codemirror_mode": {
    "name": "ipython",
    "version": 3
   },
   "file_extension": ".py",
   "mimetype": "text/x-python",
   "name": "python",
   "nbconvert_exporter": "python",
   "pygments_lexer": "ipython3",
   "version": "3.11.2"
  },
  "orig_nbformat": 4
 },
 "nbformat": 4,
 "nbformat_minor": 2
}
