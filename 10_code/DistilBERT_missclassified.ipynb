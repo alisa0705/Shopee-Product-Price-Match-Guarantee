{
 "cells": [
  {
   "attachments": {},
   "cell_type": "markdown",
   "metadata": {},
   "source": [
    "# Misclassification Examples for DistillBERT"
   ]
  },
  {
   "cell_type": "code",
   "execution_count": 1,
   "metadata": {},
   "outputs": [
    {
     "name": "stderr",
     "output_type": "stream",
     "text": [
      "/home/vscode/.venv/lib/python3.11/site-packages/tqdm/auto.py:21: TqdmWarning: IProgress not found. Please update jupyter and ipywidgets. See https://ipywidgets.readthedocs.io/en/stable/user_install.html\n",
      "  from .autonotebook import tqdm as notebook_tqdm\n",
      "2023-04-19 15:17:17.663312: I tensorflow/core/platform/cpu_feature_guard.cc:182] This TensorFlow binary is optimized to use available CPU instructions in performance-critical operations.\n",
      "To enable the following instructions: AVX2 AVX512F FMA, in other operations, rebuild TensorFlow with the appropriate compiler flags.\n",
      "2023-04-19 15:17:22.846209: W tensorflow/compiler/tf2tensorrt/utils/py_utils.cc:38] TF-TRT Warning: Could not find TensorRT\n"
     ]
    }
   ],
   "source": [
    "import pandas as pd\n",
    "import numpy as np\n",
    "import re\n",
    "\n",
    "from torch import nn\n",
    "import nltk\n",
    "import pandas as pd\n",
    "import matplotlib.pyplot as plt\n",
    "from sentence_transformers import *\n",
    "import torchvision.models as models\n",
    "\n",
    "\n",
    "import torch.nn as nn\n",
    "from transformers import BertModel, BertTokenizer\n",
    "import torch.nn as nn\n",
    "import torch.nn.functional as F\n",
    "from sentence_transformers import SentenceTransformer, util\n",
    "from sklearn.model_selection import train_test_split\n",
    "import seaborn as sns\n",
    "from sklearn.neighbors import NearestNeighbors\n",
    "from torch.nn import Transformer\n",
    "from sklearn.neighbors import KNeighborsClassifier\n",
    "from sklearn.metrics import accuracy_score\n",
    "\n",
    "\n",
    "import pandas as pd\n",
    "import numpy as np\n",
    "import os\n",
    "import cv2\n",
    "import matplotlib.pyplot as plt\n",
    "import PIL\n",
    "import tensorflow as tf\n",
    "\n",
    "\n",
    "import keras.backend as K\n",
    "from sklearn.model_selection import train_test_split\n",
    "from textwrap import wrap"
   ]
  },
  {
   "cell_type": "code",
   "execution_count": 2,
   "metadata": {},
   "outputs": [],
   "source": [
    "from text_process import process_text\n",
    "training_dataset = pd.read_csv('/workspaces/Shopee-Price-Match-Guarantee/15_after_processed/train.csv')\n",
    "val_dataset = pd.read_csv('/workspaces/Shopee-Price-Match-Guarantee/15_after_processed/val.csv')\n",
    "testing_dataset = pd.read_csv('/workspaces/Shopee-Price-Match-Guarantee/15_after_processed/test.csv')\n",
    "training_dataset, val_dataset, testing_dataset = process_text(training_dataset, val_dataset, testing_dataset)"
   ]
  },
  {
   "cell_type": "code",
   "execution_count": 3,
   "metadata": {},
   "outputs": [
    {
     "name": "stderr",
     "output_type": "stream",
     "text": [
      "Batches: 100%|██████████| 685/685 [01:02<00:00, 10.88it/s]\n",
      "Batches: 100%|██████████| 172/172 [00:15<00:00, 11.27it/s]\n"
     ]
    }
   ],
   "source": [
    "dist_model = SentenceTransformer('stsb-distilbert-base')\n",
    "dist_model.max_seq_length = 128\n",
    "\n",
    "train_titles = training_dataset.proc_title.tolist()\n",
    "train_embed = dist_model.encode(train_titles, show_progress_bar=True, convert_to_tensor=True)\n",
    "\n",
    "val_titles = val_dataset.proc_title.tolist()\n",
    "val_embed = dist_model.encode(val_titles, show_progress_bar=True, convert_to_tensor=True)"
   ]
  },
  {
   "cell_type": "code",
   "execution_count": 4,
   "metadata": {},
   "outputs": [],
   "source": [
    "def get_textEmbeddings(model,text):\n",
    "    text_embedding = model.encode(text, convert_to_tensor=True)\n",
    "    return text_embedding"
   ]
  },
  {
   "cell_type": "code",
   "execution_count": 5,
   "metadata": {},
   "outputs": [],
   "source": [
    "text_embeddings={}\n",
    "for index,row in  training_dataset.iterrows():\n",
    "    txt_emb = get_textEmbeddings(dist_model,str(row['proc_title']))\n",
    "    imagePath = '/workspaces/Shopee-Price-Match-Guarantee/00_source_data/shopee-product-matching/train_images/'+row[1]\n",
    "    text_embeddings[row[0]] = txt_emb"
   ]
  },
  {
   "cell_type": "code",
   "execution_count": 6,
   "metadata": {},
   "outputs": [],
   "source": [
    "val_text_embeddings={}\n",
    "for index,row in  val_dataset.iterrows():\n",
    "    txt_emb = get_textEmbeddings(dist_model,str(row['proc_title']))\n",
    "    imagePath = '/workspaces/Shopee-Price-Match-Guarantee/00_source_data/shopee-product-matching/train_images/'+row[1]\n",
    "    val_text_embeddings[row[0]] = txt_emb\n",
    "\n"
   ]
  },
  {
   "cell_type": "code",
   "execution_count": 9,
   "metadata": {},
   "outputs": [
    {
     "name": "stdout",
     "output_type": "stream",
     "text": [
      "For k=1, 2905 out of 5480 data points are misclassified.\n",
      "For k=2, 3523 out of 5480 data points are misclassified.\n",
      "For k=3, 3752 out of 5480 data points are misclassified.\n",
      "For k=5, 4028 out of 5480 data points are misclassified.\n",
      "For k=10, 4243 out of 5480 data points are misclassified.\n",
      "For k=25, 4517 out of 5480 data points are misclassified.\n",
      "For k=50, 4705 out of 5480 data points are misclassified.\n",
      "For k=100, 4849 out of 5480 data points are misclassified.\n"
     ]
    }
   ],
   "source": [
    "X_train, X_val, y_train, y_val = text_embeddings, val_text_embeddings, training_dataset.label_group, val_dataset.label_group\n",
    "\n",
    "# Convert X_train and X_val to pandas DataFrames\n",
    "X_train_df = pd.DataFrame(list(X_train.values()))\n",
    "X_val_df = pd.DataFrame(list(X_val.values()))\n",
    "\n",
    "results = []\n",
    "\n",
    "for k in [1, 2, 3, 5, 10, 25, 50, 100]:\n",
    "    knn = KNeighborsClassifier(n_neighbors=k)\n",
    "    knn.fit(X_train_df, y_train)\n",
    "    y_pred = knn.predict(X_val_df)\n",
    "    \n",
    "    # Find misclassified data points\n",
    "    misclassified_indices = np.where(y_pred != y_val)[0]\n",
    "    misclassified_data = X_val_df.iloc[misclassified_indices]\n",
    "    misclassified_labels = y_val.iloc[misclassified_indices]\n",
    "    predicted_labels = y_pred[misclassified_indices]\n",
    "    \n",
    "    print(f\"For k={k}, {len(misclassified_indices)} out of {len(y_val)} data points are misclassified.\")\n",
    "    \n",
    "    for i in misclassified_indices:\n",
    "        result = {'K': k, 'True label': y_val.iloc[i], 'Predicted label': y_pred[i]}\n",
    "        results.append(result)\n",
    "    \n",
    "df_results = pd.DataFrame(results)\n"
   ]
  },
  {
   "cell_type": "code",
   "execution_count": 10,
   "metadata": {},
   "outputs": [
    {
     "data": {
      "text/html": [
       "<div>\n",
       "<style scoped>\n",
       "    .dataframe tbody tr th:only-of-type {\n",
       "        vertical-align: middle;\n",
       "    }\n",
       "\n",
       "    .dataframe tbody tr th {\n",
       "        vertical-align: top;\n",
       "    }\n",
       "\n",
       "    .dataframe thead th {\n",
       "        text-align: right;\n",
       "    }\n",
       "</style>\n",
       "<table border=\"1\" class=\"dataframe\">\n",
       "  <thead>\n",
       "    <tr style=\"text-align: right;\">\n",
       "      <th></th>\n",
       "      <th>K</th>\n",
       "      <th>True label</th>\n",
       "      <th>Predicted label</th>\n",
       "    </tr>\n",
       "  </thead>\n",
       "  <tbody>\n",
       "    <tr>\n",
       "      <th>0</th>\n",
       "      <td>1</td>\n",
       "      <td>631365480</td>\n",
       "      <td>962113684</td>\n",
       "    </tr>\n",
       "    <tr>\n",
       "      <th>1</th>\n",
       "      <td>1</td>\n",
       "      <td>612013449</td>\n",
       "      <td>1783253855</td>\n",
       "    </tr>\n",
       "    <tr>\n",
       "      <th>2</th>\n",
       "      <td>1</td>\n",
       "      <td>3651485151</td>\n",
       "      <td>3173716369</td>\n",
       "    </tr>\n",
       "    <tr>\n",
       "      <th>3</th>\n",
       "      <td>1</td>\n",
       "      <td>663012346</td>\n",
       "      <td>762113799</td>\n",
       "    </tr>\n",
       "    <tr>\n",
       "      <th>4</th>\n",
       "      <td>1</td>\n",
       "      <td>1761007187</td>\n",
       "      <td>3319810322</td>\n",
       "    </tr>\n",
       "    <tr>\n",
       "      <th>...</th>\n",
       "      <td>...</td>\n",
       "      <td>...</td>\n",
       "      <td>...</td>\n",
       "    </tr>\n",
       "    <tr>\n",
       "      <th>32517</th>\n",
       "      <td>100</td>\n",
       "      <td>679648252</td>\n",
       "      <td>3222645954</td>\n",
       "    </tr>\n",
       "    <tr>\n",
       "      <th>32518</th>\n",
       "      <td>100</td>\n",
       "      <td>2595278679</td>\n",
       "      <td>452508504</td>\n",
       "    </tr>\n",
       "    <tr>\n",
       "      <th>32519</th>\n",
       "      <td>100</td>\n",
       "      <td>2206777473</td>\n",
       "      <td>1237550763</td>\n",
       "    </tr>\n",
       "    <tr>\n",
       "      <th>32520</th>\n",
       "      <td>100</td>\n",
       "      <td>3810846799</td>\n",
       "      <td>933146825</td>\n",
       "    </tr>\n",
       "    <tr>\n",
       "      <th>32521</th>\n",
       "      <td>100</td>\n",
       "      <td>2782685861</td>\n",
       "      <td>638040143</td>\n",
       "    </tr>\n",
       "  </tbody>\n",
       "</table>\n",
       "<p>32522 rows × 3 columns</p>\n",
       "</div>"
      ],
      "text/plain": [
       "         K  True label  Predicted label\n",
       "0        1   631365480        962113684\n",
       "1        1   612013449       1783253855\n",
       "2        1  3651485151       3173716369\n",
       "3        1   663012346        762113799\n",
       "4        1  1761007187       3319810322\n",
       "...    ...         ...              ...\n",
       "32517  100   679648252       3222645954\n",
       "32518  100  2595278679        452508504\n",
       "32519  100  2206777473       1237550763\n",
       "32520  100  3810846799        933146825\n",
       "32521  100  2782685861        638040143\n",
       "\n",
       "[32522 rows x 3 columns]"
      ]
     },
     "execution_count": 10,
     "metadata": {},
     "output_type": "execute_result"
    }
   ],
   "source": [
    "df_results"
   ]
  },
  {
   "cell_type": "code",
   "execution_count": 11,
   "metadata": {},
   "outputs": [],
   "source": [
    "path_to_csv='/workspaces/Shopee-Price-Match-Guarantee/30_results/DistillBERT_missclassified.csv'"
   ]
  },
  {
   "cell_type": "code",
   "execution_count": 12,
   "metadata": {},
   "outputs": [],
   "source": [
    "df_results.to_csv(path_to_csv, index=False)"
   ]
  }
 ],
 "metadata": {
  "kernelspec": {
   "display_name": ".venv",
   "language": "python",
   "name": "python3"
  },
  "language_info": {
   "codemirror_mode": {
    "name": "ipython",
    "version": 3
   },
   "file_extension": ".py",
   "mimetype": "text/x-python",
   "name": "python",
   "nbconvert_exporter": "python",
   "pygments_lexer": "ipython3",
   "version": "3.11.2"
  },
  "orig_nbformat": 4
 },
 "nbformat": 4,
 "nbformat_minor": 2
}
