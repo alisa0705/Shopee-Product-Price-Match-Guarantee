{
 "cells": [
  {
   "cell_type": "code",
   "execution_count": 47,
   "metadata": {},
   "outputs": [
    {
     "name": "stderr",
     "output_type": "stream",
     "text": [
      "[nltk_data] Downloading package stopwords to /home/vscode/nltk_data...\n",
      "[nltk_data]   Package stopwords is already up-to-date!\n"
     ]
    },
    {
     "data": {
      "text/plain": [
       "True"
      ]
     },
     "execution_count": 47,
     "metadata": {},
     "output_type": "execute_result"
    }
   ],
   "source": [
    "import pandas as pd\n",
    "import numpy as np\n",
    "import re\n",
    "\n",
    "from torch import nn\n",
    "import nltk\n",
    "import pandas as pd\n",
    "import matplotlib.pyplot as plt\n",
    "from sentence_transformers import *\n",
    "import torchvision.models as models\n",
    "\n",
    "\n",
    "import torch.nn as nn\n",
    "from transformers import BertModel, BertTokenizer\n",
    "import torch.nn as nn\n",
    "import torch.nn.functional as F\n",
    "from sentence_transformers import SentenceTransformer, util\n",
    "from sklearn.model_selection import train_test_split\n",
    "import seaborn as sns\n",
    "from sklearn.neighbors import NearestNeighbors\n",
    "from torch.nn import Transformer\n",
    "from sklearn.neighbors import KNeighborsClassifier\n",
    "from sklearn.metrics import accuracy_score\n",
    "nltk.download('stopwords')"
   ]
  },
  {
   "cell_type": "code",
   "execution_count": 81,
   "metadata": {},
   "outputs": [
    {
     "data": {
      "text/html": [
       "<div>\n",
       "<style scoped>\n",
       "    .dataframe tbody tr th:only-of-type {\n",
       "        vertical-align: middle;\n",
       "    }\n",
       "\n",
       "    .dataframe tbody tr th {\n",
       "        vertical-align: top;\n",
       "    }\n",
       "\n",
       "    .dataframe thead th {\n",
       "        text-align: right;\n",
       "    }\n",
       "</style>\n",
       "<table border=\"1\" class=\"dataframe\">\n",
       "  <thead>\n",
       "    <tr style=\"text-align: right;\">\n",
       "      <th></th>\n",
       "      <th>posting_id</th>\n",
       "      <th>image</th>\n",
       "      <th>image_phash</th>\n",
       "      <th>title</th>\n",
       "      <th>label_group</th>\n",
       "      <th>proc_title</th>\n",
       "    </tr>\n",
       "  </thead>\n",
       "  <tbody>\n",
       "    <tr>\n",
       "      <th>0</th>\n",
       "      <td>train_2249428809</td>\n",
       "      <td>40d304f91be807fed3b796a158a034f7.jpg</td>\n",
       "      <td>bc69d33e86b491c1</td>\n",
       "      <td>AMTECH Klem C Set 3 Pcs - Catok Clamp 1 2 3 Inch</td>\n",
       "      <td>3685949317</td>\n",
       "      <td>amtech klem c set pcs catok clamp inch</td>\n",
       "    </tr>\n",
       "    <tr>\n",
       "      <th>1</th>\n",
       "      <td>train_1453612941</td>\n",
       "      <td>e05aa71652e2546dbc2a6a2d18cc4aa7.jpg</td>\n",
       "      <td>bcfcc1a80ee930da</td>\n",
       "      <td>Cetakan Kue Pukis 10 Lubang Pancong Teflon Ran...</td>\n",
       "      <td>2236232282</td>\n",
       "      <td>cetakan kue pukis lubang pancong teflon rangin...</td>\n",
       "    </tr>\n",
       "    <tr>\n",
       "      <th>2</th>\n",
       "      <td>train_414717665</td>\n",
       "      <td>0c0f97f726132be83c7b84e0ca9e604e.jpg</td>\n",
       "      <td>bc4aa5a5de34d2e0</td>\n",
       "      <td>(COD)TAS TOTE BAG T76 TAS CANVAS FASHION WANIT...</td>\n",
       "      <td>3145779110</td>\n",
       "      <td>codtas tote bag t tas canvas fashion wanita im...</td>\n",
       "    </tr>\n",
       "    <tr>\n",
       "      <th>3</th>\n",
       "      <td>train_404098311</td>\n",
       "      <td>fedf1394058d6e439698356c0be6f4d6.jpg</td>\n",
       "      <td>cbceb1a14e8bf046</td>\n",
       "      <td>(1kg=7pcs) MEIRA CARDIGAN CARDI OUTHER TANPA J...</td>\n",
       "      <td>4171236554</td>\n",
       "      <td>kgpcs meira cardigan cardi outher tanpa jilbab</td>\n",
       "    </tr>\n",
       "    <tr>\n",
       "      <th>4</th>\n",
       "      <td>train_653040440</td>\n",
       "      <td>cfb08184ebbef7a5409e1bd1a0f6d0d9.jpg</td>\n",
       "      <td>c44eec61e516d2b9</td>\n",
       "      <td>Wardah Lightening Day Cream 30gr or  night cre...</td>\n",
       "      <td>1774190279</td>\n",
       "      <td>wardah lightening day cream gr night cream gr</td>\n",
       "    </tr>\n",
       "  </tbody>\n",
       "</table>\n",
       "</div>"
      ],
      "text/plain": [
       "         posting_id                                 image       image_phash  \\\n",
       "0  train_2249428809  40d304f91be807fed3b796a158a034f7.jpg  bc69d33e86b491c1   \n",
       "1  train_1453612941  e05aa71652e2546dbc2a6a2d18cc4aa7.jpg  bcfcc1a80ee930da   \n",
       "2   train_414717665  0c0f97f726132be83c7b84e0ca9e604e.jpg  bc4aa5a5de34d2e0   \n",
       "3   train_404098311  fedf1394058d6e439698356c0be6f4d6.jpg  cbceb1a14e8bf046   \n",
       "4   train_653040440  cfb08184ebbef7a5409e1bd1a0f6d0d9.jpg  c44eec61e516d2b9   \n",
       "\n",
       "                                               title  label_group  \\\n",
       "0   AMTECH Klem C Set 3 Pcs - Catok Clamp 1 2 3 Inch   3685949317   \n",
       "1  Cetakan Kue Pukis 10 Lubang Pancong Teflon Ran...   2236232282   \n",
       "2  (COD)TAS TOTE BAG T76 TAS CANVAS FASHION WANIT...   3145779110   \n",
       "3  (1kg=7pcs) MEIRA CARDIGAN CARDI OUTHER TANPA J...   4171236554   \n",
       "4  Wardah Lightening Day Cream 30gr or  night cre...   1774190279   \n",
       "\n",
       "                                          proc_title  \n",
       "0             amtech klem c set pcs catok clamp inch  \n",
       "1  cetakan kue pukis lubang pancong teflon rangin...  \n",
       "2  codtas tote bag t tas canvas fashion wanita im...  \n",
       "3     kgpcs meira cardigan cardi outher tanpa jilbab  \n",
       "4      wardah lightening day cream gr night cream gr  "
      ]
     },
     "execution_count": 81,
     "metadata": {},
     "output_type": "execute_result"
    }
   ],
   "source": [
    "from text_process import process_text\n",
    "training_dataset = pd.read_csv('/workspaces/Shopee-Price-Match-Guarantee/15_after_processed/train.csv')\n",
    "val_dataset = pd.read_csv('/workspaces/Shopee-Price-Match-Guarantee/15_after_processed/val.csv')\n",
    "testing_dataset = pd.read_csv('/workspaces/Shopee-Price-Match-Guarantee/15_after_processed/test.csv')\n",
    "training_dataset, val_dataset, testing_dataset = process_text(training_dataset, val_dataset, testing_dataset)\n",
    "training_dataset.head()"
   ]
  },
  {
   "cell_type": "code",
   "execution_count": 50,
   "metadata": {},
   "outputs": [
    {
     "name": "stderr",
     "output_type": "stream",
     "text": [
      "Truncation was not explicitly activated but `max_length` is provided a specific value, please use `truncation=True` to explicitly truncate examples to max length. Defaulting to 'longest_first' truncation strategy. If you encode pairs of sequences (GLUE-style) with the tokenizer you can select this strategy more precisely by providing a specific strategy to `truncation`.\n",
      "/tmp/ipykernel_770/3597553986.py:9: UserWarning: \n",
      "\n",
      "`distplot` is a deprecated function and will be removed in seaborn v0.14.0.\n",
      "\n",
      "Please adapt your code to use either `displot` (a figure-level function with\n",
      "similar flexibility) or `histplot` (an axes-level function for histograms).\n",
      "\n",
      "For a guide to updating your code to use the new functions, please see\n",
      "https://gist.github.com/mwaskom/de44147ed2974457ad6372750bbe5751\n",
      "\n",
      "  sns.distplot(token_lens)\n"
     ]
    },
    {
     "data": {
      "text/plain": [
       "<Axes: ylabel='Density'>"
      ]
     },
     "execution_count": 50,
     "metadata": {},
     "output_type": "execute_result"
    },
    {
     "data": {
      "image/png": "[encoded data removed]",
      "text/plain": [
       "<Figure size 640x480 with 1 Axes>"
      ]
     },
     "metadata": {},
     "output_type": "display_data"
    }
   ],
   "source": [
    "tokenizer = BertTokenizer.from_pretrained('bert-base-uncased')\n",
    "\n",
    "#want to determine what number of tokens is best for the model\n",
    "token_lens = []\n",
    "for txt in training_dataset.proc_title:\n",
    "  tokens = tokenizer.encode(txt, max_length=512)\n",
    "  token_lens.append(len(tokens))\n",
    "\n",
    "sns.distplot(token_lens)\n"
   ]
  },
  {
   "cell_type": "code",
   "execution_count": 51,
   "metadata": {},
   "outputs": [
    {
     "data": {
      "text/plain": [
       "SentenceTransformer(\n",
       "  (0): Transformer({'max_seq_length': 128, 'do_lower_case': False}) with Transformer model: DistilBertModel \n",
       "  (1): Pooling({'word_embedding_dimension': 768, 'pooling_mode_cls_token': False, 'pooling_mode_mean_tokens': True, 'pooling_mode_max_tokens': False, 'pooling_mode_mean_sqrt_len_tokens': False})\n",
       "  (2): Dense({'in_features': 768, 'out_features': 512, 'bias': True, 'activation_function': 'torch.nn.modules.activation.Tanh'})\n",
       ")"
      ]
     },
     "execution_count": 51,
     "metadata": {},
     "output_type": "execute_result"
    }
   ],
   "source": [
    "model = SentenceTransformer('sentence-transformers/distiluse-base-multilingual-cased-v2')\n",
    "model"
   ]
  },
  {
   "cell_type": "code",
   "execution_count": 56,
   "metadata": {},
   "outputs": [
    {
     "name": "stderr",
     "output_type": "stream",
     "text": [
      "Batches: 100%|██████████| 685/685 [00:06<00:00, 102.96it/s]\n",
      "Batches: 100%|██████████| 172/172 [00:01<00:00, 101.58it/s]\n"
     ]
    }
   ],
   "source": [
    "from sentence_transformers.util import cos_sim\n",
    "\n",
    "train_titles = training_dataset.proc_title.tolist()\n",
    "train_embed = model.encode(train_titles, show_progress_bar=True)\n",
    "\n",
    "val_titles = val_dataset.proc_title.tolist()\n",
    "val_embed = model.encode(val_titles, show_progress_bar=True)\n",
    "\n",
    "# sim = np.zeros((len(train_titles), len(train_titles)))\n",
    "\n",
    "# for i in range(len(titles)):\n",
    "#     sim[i:,i] = cos_sim(embeddings[i], embeddings[i:])\n",
    "\n",
    "# sim"
   ]
  },
  {
   "cell_type": "code",
   "execution_count": 65,
   "metadata": {},
   "outputs": [],
   "source": [
    "X_train, X_val, y_train, y_val = train_embed, val_embed, training_dataset.label_group, val_dataset.label_group"
   ]
  },
  {
   "cell_type": "code",
   "execution_count": 66,
   "metadata": {},
   "outputs": [],
   "source": [
    "from sklearn.metrics import accuracy_score, f1_score\n",
    "acc_dict = {}\n",
    "f1_dict = {}\n",
    "for k in [1, 2, 3, 5, 10, 25, 50, 100]:\n",
    "    knn = KNeighborsClassifier(n_neighbors=k)\n",
    "    knn.fit(X_train, y_train)\n",
    "    y_pred = knn.predict(X_val)\n",
    "\n",
    "    # Evaluate the performance on the test set\n",
    "    accuracy = accuracy_score(y_val, y_pred)\n",
    "    f1 = f1_score(y_val, y_pred, average='weighted')\n",
    "    acc_dict[k] = accuracy\n",
    "    f1_dict[k] = f1"
   ]
  },
  {
   "cell_type": "code",
   "execution_count": 67,
   "metadata": {},
   "outputs": [
    {
     "data": {
      "text/plain": [
       "Text(0, 0.5, 'Score')"
      ]
     },
     "execution_count": 67,
     "metadata": {},
     "output_type": "execute_result"
    },
    {
     "data": {
      "image/png": "[encoded data removed]",
      "text/plain": [
       "<Figure size 640x480 with 1 Axes>"
      ]
     },
     "metadata": {},
     "output_type": "display_data"
    }
   ],
   "source": [
    "plt.plot(acc_dict.keys(), acc_dict.values(), label='accuracy')\n",
    "plt.plot(f1_dict.keys(), f1_dict.values(), label='f1 score')\n",
    "plt.legend()\n",
    "plt.title('Tuning Number of Neighbors')\n",
    "plt.xlabel('Number of Neighbors')\n",
    "plt.ylabel('Score')"
   ]
  },
  {
   "cell_type": "code",
   "execution_count": 68,
   "metadata": {},
   "outputs": [
    {
     "name": "stdout",
     "output_type": "stream",
     "text": [
      "Ideal number of neighbors = 1\n",
      "Accuracy = 0.4425182481751825\n",
      "F1 Score = 0.4246404640201221\n"
     ]
    }
   ],
   "source": [
    "print(f'Ideal number of neighbors = {max(acc_dict, key=acc_dict.get)}')\n",
    "print(f'Accuracy = {acc_dict[max(f1_dict, key=acc_dict.get)]}')\n",
    "print(f'F1 Score = {f1_dict[max(acc_dict, key=acc_dict.get)]}')"
   ]
  },
  {
   "cell_type": "code",
   "execution_count": 70,
   "metadata": {},
   "outputs": [
    {
     "name": "stderr",
     "output_type": "stream",
     "text": [
      "Batches: 100%|██████████| 215/215 [00:02<00:00, 104.34it/s]\n"
     ]
    }
   ],
   "source": [
    "test_titles = testing_dataset.proc_title.tolist()\n",
    "test_embeddings = model.encode(test_titles, show_progress_bar=True)"
   ]
  },
  {
   "cell_type": "code",
   "execution_count": 71,
   "metadata": {},
   "outputs": [
    {
     "name": "stdout",
     "output_type": "stream",
     "text": [
      "Accuracy = 0.4510948905109489\n",
      "F1 score = 0.42915130010193425\n"
     ]
    }
   ],
   "source": [
    "knn = KNeighborsClassifier(n_neighbors=1)\n",
    "knn.fit(X_train, y_train)\n",
    "y_pred = knn.predict(test_embeddings)\n",
    "y_true = testing_dataset.label_group.tolist()\n",
    "accuracy = accuracy_score(y_true, y_pred)\n",
    "f1 = f1_score(y_true, y_pred, average='weighted')\n",
    "print(f'Accuracy = {accuracy}')\n",
    "print(f'F1 score = {f1}')"
   ]
  }
 ],
 "metadata": {
  "kernelspec": {
   "display_name": ".venv",
   "language": "python",
   "name": "python3"
  },
  "language_info": {
   "codemirror_mode": {
    "name": "ipython",
    "version": 3
   },
   "file_extension": ".py",
   "mimetype": "text/x-python",
   "name": "python",
   "nbconvert_exporter": "python",
   "pygments_lexer": "ipython3",
   "version": "3.11.2"
  },
  "orig_nbformat": 4
 },
 "nbformat": 4,
 "nbformat_minor": 2
}
